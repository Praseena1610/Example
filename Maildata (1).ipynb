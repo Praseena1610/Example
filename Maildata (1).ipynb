{
 "cells": [
  {
   "cell_type": "code",
   "execution_count": 1,
   "metadata": {
    "scrolled": true
   },
   "outputs": [],
   "source": [
    "import win32com.client\n",
    "import os\n",
    "import pandas as pd\n",
    "from datetime import datetime"
   ]
  },
  {
   "cell_type": "code",
   "execution_count": 2,
   "metadata": {},
   "outputs": [],
   "source": [
    "outlook=win32com.client.Dispatch(\"Outlook.Application\").GetNameSpace(\"MAPI\")"
   ]
  },
  {
   "cell_type": "code",
   "execution_count": 3,
   "metadata": {},
   "outputs": [],
   "source": [
    "#inbox = outlook.GetDefaultFolder(6)\n",
    "root_folder = outlook.Folders.Item(1)\n",
    "subfolder = root_folder.Folders['RPA']\n",
    "messages = subfolder.Items"
   ]
  },
  {
   "cell_type": "code",
   "execution_count": 4,
   "metadata": {},
   "outputs": [
    {
     "name": "stdout",
     "output_type": "stream",
     "text": [
      "32\n"
     ]
    }
   ],
   "source": [
    "#message=inbox.Items\n",
    "print(messages.count)"
   ]
  },
  {
   "cell_type": "code",
   "execution_count": 13,
   "metadata": {},
   "outputs": [],
   "source": [
    "a = pd.read_excel(r'C:\\Users\\praseena.s\\Desktop\\PES\\Redmine data\\Project.xlsx')"
   ]
  },
  {
   "cell_type": "code",
   "execution_count": 14,
   "metadata": {},
   "outputs": [],
   "source": [
    "final=pd.read_excel(r\"C:\\Users\\praseena.s\\Desktop\\PES\\Invoice track\\final.xls\")"
   ]
  },
  {
   "cell_type": "code",
   "execution_count": 15,
   "metadata": {},
   "outputs": [],
   "source": [
    "result = pd.concat([a,final], ignore_index=True, sort=False, join = 'inner')"
   ]
  },
  {
   "cell_type": "code",
   "execution_count": 16,
   "metadata": {},
   "outputs": [],
   "source": [
    "final=final.append(result)"
   ]
  },
  {
   "cell_type": "code",
   "execution_count": 19,
   "metadata": {},
   "outputs": [],
   "source": [
    "final.to_excel(r'C:\\Users\\praseena.s\\Desktop\\PES\\Invoice track\\final.xls')"
   ]
  },
  {
   "cell_type": "code",
   "execution_count": 20,
   "metadata": {},
   "outputs": [],
   "source": [
    "#final=pd.read_excel(r\"C:\\Users\\praseena.s\\Desktop\\PES\\Invoice track\\final.xls\")\n",
    "f=final[final.columns[2]]"
   ]
  },
  {
   "cell_type": "code",
   "execution_count": 21,
   "metadata": {},
   "outputs": [
    {
     "data": {
      "text/plain": [
       "0                  4RF - Product development\n",
       "1             Acces IO - M2 DIO and COM Card\n",
       "2      Airport Authority - Digital Sky - PES\n",
       "3                            Apcela - Portal\n",
       "4                 Arris - Commscope Platform\n",
       "                       ...                  \n",
       "99                         Wiley- WAS - WPNG\n",
       "100         Wiley-BigDataEngineeringOffshore\n",
       "101                     WIley-DataManagement\n",
       "102                     Workboard_Mobile_App\n",
       "103                    Workboard_Server_Side\n",
       "Name: Project Name, Length: 104, dtype: object"
      ]
     },
     "execution_count": 21,
     "metadata": {},
     "output_type": "execute_result"
    }
   ],
   "source": [
    "f"
   ]
  },
  {
   "cell_type": "code",
   "execution_count": 22,
   "metadata": {},
   "outputs": [],
   "source": [
    "for message in messages:\n",
    "    body=message.body\n",
    "    subject=message.subject\n",
    "    #print(subject)\n",
    "    #print(body)\n",
    "    for i in f.index:\n",
    "        match = body.find(f.loc[i])\n",
    "        match2=subject.find(f.loc[i])\n",
    "        if match is not -1:\n",
    "            date=message.senton.date()   \n",
    "            #print(date)\n",
    "            final.loc[i,'PM Submitted date'] = date.strftime(\"%d/%m/%Y\")\n",
    "            final.update(final)\n",
    "        if match2 is not -1:\n",
    "            date2=message.senton.date()\n",
    "            #print(date2)\n",
    "            final.loc[i,'BDM Submitted Date'] = date2.strftime(\"%d/%m/%Y\")\n",
    "            final.update(final)\n",
    "    final.to_excel('C:\\Users\\praseena.s\\Desktop\\PES\\Invoice track\\final.xls',index=False) "
   ]
  },
  {
   "cell_type": "code",
   "execution_count": null,
   "metadata": {},
   "outputs": [],
   "source": []
  },
  {
   "cell_type": "code",
   "execution_count": null,
   "metadata": {},
   "outputs": [],
   "source": []
  },
  {
   "cell_type": "code",
   "execution_count": null,
   "metadata": {},
   "outputs": [],
   "source": []
  },
  {
   "cell_type": "code",
   "execution_count": null,
   "metadata": {},
   "outputs": [],
   "source": []
  },
  {
   "cell_type": "code",
   "execution_count": null,
   "metadata": {},
   "outputs": [],
   "source": []
  },
  {
   "cell_type": "code",
   "execution_count": null,
   "metadata": {},
   "outputs": [],
   "source": []
  },
  {
   "cell_type": "code",
   "execution_count": null,
   "metadata": {},
   "outputs": [],
   "source": []
  },
  {
   "cell_type": "code",
   "execution_count": null,
   "metadata": {},
   "outputs": [],
   "source": []
  }
 ],
 "metadata": {
  "kernelspec": {
   "display_name": "Python 3",
   "language": "python",
   "name": "python3"
  },
  "language_info": {
   "codemirror_mode": {
    "name": "ipython",
    "version": 3
   },
   "file_extension": ".py",
   "mimetype": "text/x-python",
   "name": "python",
   "nbconvert_exporter": "python",
   "pygments_lexer": "ipython3",
   "version": "3.7.6"
  }
 },
 "nbformat": 4,
 "nbformat_minor": 2
}
